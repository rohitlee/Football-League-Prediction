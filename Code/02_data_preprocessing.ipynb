{
  "nbformat": 4,
  "nbformat_minor": 0,
  "metadata": {
    "colab": {
      "provenance": []
    },
    "kernelspec": {
      "name": "python3",
      "display_name": "Python 3"
    },
    "language_info": {
      "name": "python"
    }
  },
  "cells": [
    {
      "cell_type": "code",
      "execution_count": 1,
      "metadata": {
        "id": "Lez8Pb8MRzja"
      },
      "outputs": [],
      "source": [
        "import pandas as pd"
      ]
    },
    {
      "cell_type": "code",
      "source": [
        "df = pd.read_csv(\"dataset.csv\")"
      ],
      "metadata": {
        "id": "8PLQJ86xR4YT"
      },
      "execution_count": 2,
      "outputs": []
    },
    {
      "cell_type": "code",
      "source": [
        "# Dictionary of columns to rename\n",
        "columns_to_rename = {\n",
        "    'Comp_x': 'Comp',\n",
        "    'Round_x': 'Round',\n",
        "    'Venue_x': 'Venue',\n",
        "    'xG_x': 'xG'\n",
        "}\n",
        "\n",
        "# Rename the columns\n",
        "df.rename(columns=columns_to_rename, inplace=True)"
      ],
      "metadata": {
        "id": "kalFTKclSFSV"
      },
      "execution_count": 3,
      "outputs": []
    },
    {
      "cell_type": "code",
      "source": [
        "# List of  columns to delete\n",
        "columns_to_delete = [\n",
        "    'Time_x', 'Day_x', 'Result_x', 'Time_y', 'Comp_y',\n",
        "    'Round_y', 'Day_y', 'Venue_y', 'Result_y'\n",
        "]\n",
        "\n",
        "# Drop the  columns\n",
        "df.drop(columns=columns_to_delete, inplace=True)"
      ],
      "metadata": {
        "id": "2RCvpRebSRQl"
      },
      "execution_count": 4,
      "outputs": []
    },
    {
      "cell_type": "code",
      "source": [
        "# Save the updated  DataFrame to a CSV file\n",
        "df.to_csv('Clean_dataset.csv', index=False)"
      ],
      "metadata": {
        "id": "G6DneQOvSUBO"
      },
      "execution_count": 5,
      "outputs": []
    },
    {
      "cell_type": "code",
      "source": [],
      "metadata": {
        "id": "5fMtMoDASWZ8"
      },
      "execution_count": null,
      "outputs": []
    }
  ]
}